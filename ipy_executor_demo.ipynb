{
 "cells": [
  {
   "cell_type": "code",
   "execution_count": 8,
   "metadata": {
    "collapsed": false
   },
   "outputs": [
    {
     "name": "stdout",
     "output_type": "stream",
     "text": [
      "The autoreload extension is already loaded. To reload it, use:\n",
      "  %reload_ext autoreload\n"
     ]
    }
   ],
   "source": [
    "%load_ext autoreload\n",
    "%autoreload 2"
   ]
  },
  {
   "cell_type": "code",
   "execution_count": 9,
   "metadata": {
    "collapsed": true
   },
   "outputs": [],
   "source": [
    "import ipyparallel\n",
    "from ipyparallel import Client\n",
    "\n",
    "import time\n",
    "\n",
    "import ipy_executor"
   ]
  },
  {
   "cell_type": "markdown",
   "metadata": {},
   "source": [
    "For this to work you are going to need a collection of engines to connect to. You can probably create a local collection by just running ``ipcluster -n 8``; for more sophisticated setups read the ipyparallel docs. You set up \"profiles\" and can start and connect to different engine setups by specifying profiles."
   ]
  },
  {
   "cell_type": "code",
   "execution_count": 10,
   "metadata": {
    "collapsed": false
   },
   "outputs": [
    {
     "data": {
      "text/plain": [
       "[0, 1, 2, 3, 4, 5, 6, 7]"
      ]
     },
     "execution_count": 10,
     "metadata": {},
     "output_type": "execute_result"
    }
   ],
   "source": [
    "c = Client()\n",
    "c.ids"
   ]
  },
  {
   "cell_type": "markdown",
   "metadata": {},
   "source": [
    "Parallel execution! You can turn the delay up to confirm that it's really running in parallel."
   ]
  },
  {
   "cell_type": "code",
   "execution_count": 20,
   "metadata": {
    "collapsed": false,
    "scrolled": false
   },
   "outputs": [
    {
     "name": "stdout",
     "output_type": "stream",
     "text": [
      "[0, 1, 4, 9, 16, 25, 36, 49, 64, 81, 100, 121, 144, 169, 196, 225, 256, 289, 324, 361, 400, 441, 484, 529]\n"
     ]
    }
   ],
   "source": [
    "def f(x):\n",
    "    import time\n",
    "    time.sleep(1)\n",
    "    return x**2\n",
    "\n",
    "with ipy_executor.IpyExecutor(c) as ex:\n",
    "    print(list(ex.map(f,range(3*len(c.ids)))))"
   ]
  },
  {
   "cell_type": "markdown",
   "metadata": {},
   "source": [
    "Just checking that exceptions are correctly propagated - that is, sent back from the engines and attached to the Future, to be handled however the Future's creator thinks appropriate. ``map`` just cancels all outstanding Futures (running Futures cannot be interrupted) and re-raises the exception. So the below should just take a second, not a hundred seconds."
   ]
  },
  {
   "cell_type": "code",
   "execution_count": 21,
   "metadata": {
    "collapsed": false,
    "scrolled": false
   },
   "outputs": [
    {
     "ename": "RemoteError",
     "evalue": "ValueError(Oops!)",
     "output_type": "error",
     "traceback": [
      "\u001b[1;31m---------------------------------------------------------------------------\u001b[0m\u001b[1;31mValueError\u001b[0m                                Traceback (most recent call last)\u001b[1;32m<string>\u001b[0m in \u001b[0;36m<module>\u001b[1;34m()\u001b[0m",
      "\u001b[1;32m<ipython-input-21-1a7b99969cca>\u001b[0m in \u001b[0;36mg\u001b[1;34m(x)\u001b[0m",
      "\u001b[1;31mValueError\u001b[0m: Oops!"
     ]
    }
   ],
   "source": [
    "def g(x):\n",
    "    import time\n",
    "    time.sleep(1)\n",
    "    if x==3:\n",
    "        raise ValueError(\"Oops!\")\n",
    "    return x**2\n",
    "\n",
    "with ipy_executor.IpyExecutor(c) as ex:\n",
    "    list(ex.map(g,range(100*len(c.ids))))"
   ]
  },
  {
   "cell_type": "markdown",
   "metadata": {},
   "source": [
    "You need to make sure the objects you care about are available on the engines. A \"direct view\" lets you push them into the engine namespace."
   ]
  },
  {
   "cell_type": "code",
   "execution_count": 23,
   "metadata": {
    "collapsed": false
   },
   "outputs": [
    {
     "name": "stdout",
     "output_type": "stream",
     "text": [
      "[0, 1, 4, 9, 16, 25, 36, 49, 64, 81, 100, 121, 144, 169, 196, 225, 256, 289, 324, 361, 400, 441, 484, 529, 576, 625, 676, 729, 784, 841]\n"
     ]
    }
   ],
   "source": [
    "dview = c[:]\n",
    "\n",
    "def h(x):\n",
    "    return h_internal(x)\n",
    "\n",
    "exponent = 2\n",
    "def h_internal(x):\n",
    "    return x**exponent\n",
    "dview.push(dict(h_internal=h_internal,\n",
    "                exponent=exponent))\n",
    "\n",
    "with ipy_executor.IpyExecutor(c) as ex:\n",
    "    print(list(ex.map(h,range(30))))"
   ]
  },
  {
   "cell_type": "markdown",
   "metadata": {},
   "source": [
    "Tracebacks are slightly wonky since this is interactive code but at least you can see the remote stack."
   ]
  },
  {
   "cell_type": "code",
   "execution_count": 24,
   "metadata": {
    "collapsed": false
   },
   "outputs": [
    {
     "ename": "RemoteError",
     "evalue": "ValueError(blarg)",
     "output_type": "error",
     "traceback": [
      "\u001b[1;31m---------------------------------------------------------------------------\u001b[0m\u001b[1;31mValueError\u001b[0m                                Traceback (most recent call last)\u001b[1;32m<string>\u001b[0m in \u001b[0;36m<module>\u001b[1;34m()\u001b[0m",
      "\u001b[1;32m<ipython-input-24-ba9d7e977960>\u001b[0m in \u001b[0;36mk\u001b[1;34m(x)\u001b[0m",
      "\u001b[1;32m<ipython-input-24-ba9d7e977960>\u001b[0m in \u001b[0;36mk_internal\u001b[1;34m(x)\u001b[0m",
      "\u001b[1;31mValueError\u001b[0m: blarg"
     ]
    }
   ],
   "source": [
    "def k(x):\n",
    "    return k_internal(x)\n",
    "\n",
    "def k_internal(x):\n",
    "    if x==7:\n",
    "        raise ValueError(\"blarg\")\n",
    "    return x**2\n",
    "dview.push(dict(k_internal=k_internal))\n",
    "\n",
    "with ipy_executor.IpyExecutor(c) as ex:\n",
    "    print(list(ex.map(k,range(30))))"
   ]
  },
  {
   "cell_type": "code",
   "execution_count": null,
   "metadata": {
    "collapsed": true
   },
   "outputs": [],
   "source": []
  }
 ],
 "metadata": {
  "kernelspec": {
   "display_name": "Python 3",
   "language": "python",
   "name": "python3"
  },
  "language_info": {
   "codemirror_mode": {
    "name": "ipython",
    "version": 3
   },
   "file_extension": ".py",
   "mimetype": "text/x-python",
   "name": "python",
   "nbconvert_exporter": "python",
   "pygments_lexer": "ipython3",
   "version": "3.4.3"
  }
 },
 "nbformat": 4,
 "nbformat_minor": 0
}
